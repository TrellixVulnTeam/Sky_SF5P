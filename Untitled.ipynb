{
 "cells": [
  {
   "cell_type": "code",
   "execution_count": 1,
   "id": "ffb8383b",
   "metadata": {
    "scrolled": true
   },
   "outputs": [
    {
     "name": "stdout",
     "output_type": "stream",
     "text": [
      "Requirement already satisfied: pandas in ./venv/lib/python3.8/site-packages (1.2.4)\n",
      "Requirement already satisfied: pytz>=2017.3 in /usr/lib/python3/dist-packages (from pandas) (2019.3)\n",
      "Requirement already satisfied: python-dateutil>=2.7.3 in /usr/lib/python3/dist-packages (from pandas) (2.7.3)\n",
      "Requirement already satisfied: numpy>=1.16.5 in /home/mk/.local/lib/python3.8/site-packages (from pandas) (1.20.3)\n"
     ]
    }
   ],
   "source": [
    "!pip install pandas"
   ]
  },
  {
   "cell_type": "code",
   "execution_count": 6,
   "id": "cd774fe7",
   "metadata": {},
   "outputs": [],
   "source": [
    "import pandas as pd"
   ]
  },
  {
   "cell_type": "code",
   "execution_count": 7,
   "id": "e73815ec",
   "metadata": {
    "scrolled": true
   },
   "outputs": [
    {
     "data": {
      "text/html": [
       "<div>\n",
       "<style scoped>\n",
       "    .dataframe tbody tr th:only-of-type {\n",
       "        vertical-align: middle;\n",
       "    }\n",
       "\n",
       "    .dataframe tbody tr th {\n",
       "        vertical-align: top;\n",
       "    }\n",
       "\n",
       "    .dataframe thead th {\n",
       "        text-align: right;\n",
       "    }\n",
       "</style>\n",
       "<table border=\"1\" class=\"dataframe\">\n",
       "  <thead>\n",
       "    <tr style=\"text-align: right;\">\n",
       "      <th></th>\n",
       "      <th>categoria</th>\n",
       "      <th>produto</th>\n",
       "    </tr>\n",
       "  </thead>\n",
       "  <tbody>\n",
       "    <tr>\n",
       "      <th>0</th>\n",
       "      <td>__label__corpo</td>\n",
       "      <td>touca de cetim branca anti-frizz santa clara 1...</td>\n",
       "    </tr>\n",
       "    <tr>\n",
       "      <th>1</th>\n",
       "      <td>__label__cozinha</td>\n",
       "      <td>peneira de farinha genial un</td>\n",
       "    </tr>\n",
       "    <tr>\n",
       "      <th>2</th>\n",
       "      <td>__label__vinhos</td>\n",
       "      <td>vinho branco frisante quinta do sol suave un 7...</td>\n",
       "    </tr>\n",
       "    <tr>\n",
       "      <th>3</th>\n",
       "      <td>__label__embalagens e descartáveis</td>\n",
       "      <td>forminha cupcake salmão plac com 45 unidades</td>\n",
       "    </tr>\n",
       "    <tr>\n",
       "      <th>4</th>\n",
       "      <td>__label__cabelo</td>\n",
       "      <td>pente estampado italy luxo santa clara 1 unidade</td>\n",
       "    </tr>\n",
       "  </tbody>\n",
       "</table>\n",
       "</div>"
      ],
      "text/plain": [
       "                            categoria  \\\n",
       "0                      __label__corpo   \n",
       "1                    __label__cozinha   \n",
       "2                     __label__vinhos   \n",
       "3  __label__embalagens e descartáveis   \n",
       "4                     __label__cabelo   \n",
       "\n",
       "                                             produto  \n",
       "0  touca de cetim branca anti-frizz santa clara 1...  \n",
       "1                       peneira de farinha genial un  \n",
       "2  vinho branco frisante quinta do sol suave un 7...  \n",
       "3       forminha cupcake salmão plac com 45 unidades  \n",
       "4   pente estampado italy luxo santa clara 1 unidade  "
      ]
     },
     "execution_count": 7,
     "metadata": {},
     "output_type": "execute_result"
    }
   ],
   "source": [
    "import pandas as pd\n",
    "df = pd.read_csv('produtos.train')\n",
    "df.head()"
   ]
  },
  {
   "cell_type": "code",
   "execution_count": 8,
   "id": "d2a3e372",
   "metadata": {},
   "outputs": [],
   "source": [
    "#df = df[pd.notnull(df['categoria'])]"
   ]
  },
  {
   "cell_type": "code",
   "execution_count": 9,
   "id": "d27e46cc",
   "metadata": {},
   "outputs": [
    {
     "name": "stdout",
     "output_type": "stream",
     "text": [
      "<class 'pandas.core.frame.DataFrame'>\n",
      "RangeIndex: 129999 entries, 0 to 129998\n",
      "Data columns (total 2 columns):\n",
      " #   Column     Non-Null Count   Dtype \n",
      "---  ------     --------------   ----- \n",
      " 0   categoria  129999 non-null  object\n",
      " 1   produto    129999 non-null  object\n",
      "dtypes: object(2)\n",
      "memory usage: 2.0+ MB\n"
     ]
    }
   ],
   "source": [
    "df.info()"
   ]
  },
  {
   "cell_type": "code",
   "execution_count": 10,
   "id": "d86afc7c",
   "metadata": {},
   "outputs": [],
   "source": [
    "col = ['categoria', 'produto']"
   ]
  },
  {
   "cell_type": "code",
   "execution_count": 11,
   "id": "4887a53b",
   "metadata": {},
   "outputs": [],
   "source": [
    "df = df[col]"
   ]
  },
  {
   "cell_type": "code",
   "execution_count": 12,
   "id": "9fd7607c",
   "metadata": {},
   "outputs": [
    {
     "data": {
      "text/plain": [
       "0         touca de cetim branca anti-frizz santa clara 1...\n",
       "1                              peneira de farinha genial un\n",
       "2         vinho branco frisante quinta do sol suave un 7...\n",
       "3              forminha cupcake salmão plac com 45 unidades\n",
       "4          pente estampado italy luxo santa clara 1 unidade\n",
       "                                ...                        \n",
       "129994                        vinho 7 irmãos bordo suave 2l\n",
       "129995                          polpa de bacuri nutrin 500g\n",
       "129996               amendoa torrada e salgada hortmix 130g\n",
       "129997        água micelar ruby rose hb-304 embalagem 200ml\n",
       "129998                                  agridoce bombay 40g\n",
       "Name: produto, Length: 129999, dtype: object"
      ]
     },
     "execution_count": 12,
     "metadata": {},
     "output_type": "execute_result"
    }
   ],
   "source": [
    "df['produto']"
   ]
  },
  {
   "cell_type": "code",
   "execution_count": 22,
   "id": "c7cd3830",
   "metadata": {},
   "outputs": [],
   "source": [
    "#df.columns\n",
    "#for row in df['produto']:\n",
    "#    print(row)"
   ]
  },
  {
   "cell_type": "code",
   "execution_count": 26,
   "id": "ae5b2e80",
   "metadata": {},
   "outputs": [],
   "source": [
    "df.columns = ['categoria', 'produto']"
   ]
  },
  {
   "cell_type": "code",
   "execution_count": 29,
   "id": "bc5510cb",
   "metadata": {
    "scrolled": true
   },
   "outputs": [],
   "source": [
    "df['categoria_id'] = df['produto'].factorize()[0]\n",
    "from io import StringIO\n",
    "category_id_df = df[['produto', 'categoria_id']].drop_duplicates().sort_values('categoria_id')\n",
    "category_to_id = dict(category_id_df.values)\n",
    "id_to_category = dict(category_id_df[['categoria_id', 'produto']].values)"
   ]
  },
  {
   "cell_type": "code",
   "execution_count": 24,
   "id": "cd925f12",
   "metadata": {
    "scrolled": true
   },
   "outputs": [],
   "source": [
    "#import matplotlib.pyplot as plt\n",
    "#fig = plt.figure(figsize = (8,6))\n",
    "#df.groupby('produto').categoria.count().plot.bar(ylim=0)\n",
    "#plt.show()"
   ]
  },
  {
   "cell_type": "code",
   "execution_count": 19,
   "id": "61c4d929",
   "metadata": {
    "scrolled": true
   },
   "outputs": [
    {
     "data": {
      "text/plain": [
       "(129999, 270)"
      ]
     },
     "execution_count": 19,
     "metadata": {},
     "output_type": "execute_result"
    }
   ],
   "source": [
    "from nltk.corpus import stopwords\n",
    "from sklearn.feature_extraction.text import TfidfVectorizer\n",
    "tfidf = TfidfVectorizer(sublinear_tf=True, min_df=5, encoding='latin-1', ngram_range=(1,2), stop_words='english')\n",
    "features = tfidf.fit_transform(df.categoria).toarray()\n",
    "labels = df.produto\n",
    "features.shape"
   ]
  },
  {
   "cell_type": "code",
   "execution_count": null,
   "id": "3e6c82b3",
   "metadata": {},
   "outputs": [],
   "source": [
    "from sklearn.feature_selection import chi2\n",
    "import numpy as np\n",
    "N = 2\n",
    "for produto, categoria in sorted(cat)"
   ]
  },
  {
   "cell_type": "code",
   "execution_count": null,
   "id": "999e1561",
   "metadata": {},
   "outputs": [],
   "source": []
  }
 ],
 "metadata": {
  "kernelspec": {
   "display_name": "Python 3",
   "language": "python",
   "name": "python3"
  },
  "language_info": {
   "codemirror_mode": {
    "name": "ipython",
    "version": 3
   },
   "file_extension": ".py",
   "mimetype": "text/x-python",
   "name": "python",
   "nbconvert_exporter": "python",
   "pygments_lexer": "ipython3",
   "version": "3.8.5"
  }
 },
 "nbformat": 4,
 "nbformat_minor": 5
}
